{
 "cells": [
  {
   "cell_type": "code",
   "execution_count": 1,
   "metadata": {},
   "outputs": [],
   "source": [
    "import sqlite3, pandas as pd"
   ]
  },
  {
   "cell_type": "code",
   "execution_count": 2,
   "metadata": {},
   "outputs": [],
   "source": [
    "con = sqlite3.connect(\"../data/ai_watch.db\")"
   ]
  },
  {
   "cell_type": "code",
   "execution_count": 5,
   "metadata": {},
   "outputs": [
    {
     "name": "stdout",
     "output_type": "stream",
     "text": [
      "   rank             name                                                bio  \\\n",
      "0     1      Lex Fridman  Host of Lex Fridman Podcast.Interested in robo...   \n",
      "1     2       Sam Altman                                 AI is cool i guess   \n",
      "2     3       Kai-Fu Lee  #AI Expert, CEO of @01ai_yi and Chairman of 创新...   \n",
      "3     4     John Carmack  AGI at Keen Technologies, former CTO Oculus VR...   \n",
      "4     5        Andrew Ng  Co-Founder of Coursera; Stanford CS adjunct fa...   \n",
      "5     6  Andrej Karpathy  Building @EurekaLabsAI. Previously Director of...   \n",
      "6     8       Yann LeCun  Professor at NYU. Chief AI Scientist at Meta.R...   \n",
      "7     7     Sean Gardner  Traveler ?️ (30 countries) • Board @FreeNPTech...   \n",
      "8    13     Rowan Cheung  Founder @therundownai. Sharing the latest deve...   \n",
      "9     9    Robert Scoble  AI was launched in my house. Well, at least Si...   \n",
      "\n",
      "  twitter_username  nb_twitter_followers   type gender  \\\n",
      "0      @lexfridman               4200000   Mega   Male   \n",
      "1            @sama               3100000   Mega   Male   \n",
      "2        @kaifulee               1500000   Mega   Male   \n",
      "3   @ID_AA_Carmack               1100000   Mega   Male   \n",
      "4       @AndrewYNg               1100000   Mega   Male   \n",
      "5        @karpathy               1000000   Mega   Male   \n",
      "6          @ylecun                804000  Macro   Male   \n",
      "7   @2morrowknight                730400  Macro   Male   \n",
      "8     @rowancheung                524500  Macro   Male   \n",
      "9      @Scobleizer                509300  Macro   Male   \n",
      "\n",
      "                             links  \n",
      "0  https://lexfridman.com/podcast/  \n",
      "1      https://blog.samaltman.com/  \n",
      "2                                   \n",
      "3                                   \n",
      "4                                   \n",
      "5                                   \n",
      "6                                   \n",
      "7                                   \n",
      "8                                   \n",
      "9                                   \n"
     ]
    }
   ],
   "source": [
    "# Example: top 10 influencers by follower count\n",
    "df = pd.read_sql_query(\"\"\"\n",
    "    SELECT name, twitter_username, nb_twitter_followers\n",
    "    FROM influencers\n",
    "    ORDER BY nb_twitter_followers DESC\n",
    "    LIMIT 10\n",
    "\"\"\", con)\n",
    "\n",
    "print(df)"
   ]
  },
  {
   "cell_type": "code",
   "execution_count": 6,
   "metadata": {},
   "outputs": [
    {
     "data": {
      "text/plain": [
       "(10, 8)"
      ]
     },
     "execution_count": 6,
     "metadata": {},
     "output_type": "execute_result"
    }
   ],
   "source": [
    "df.shape"
   ]
  }
 ],
 "metadata": {
  "kernelspec": {
   "display_name": ".venv",
   "language": "python",
   "name": "python3"
  },
  "language_info": {
   "codemirror_mode": {
    "name": "ipython",
    "version": 3
   },
   "file_extension": ".py",
   "mimetype": "text/x-python",
   "name": "python",
   "nbconvert_exporter": "python",
   "pygments_lexer": "ipython3",
   "version": "3.13.1"
  }
 },
 "nbformat": 4,
 "nbformat_minor": 2
}
