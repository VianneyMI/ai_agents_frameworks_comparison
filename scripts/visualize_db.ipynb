{
 "cells": [
  {
   "cell_type": "code",
   "execution_count": 1,
   "metadata": {},
   "outputs": [],
   "source": [
    "import sqlite3, pandas as pd"
   ]
  },
  {
   "cell_type": "code",
   "execution_count": 3,
   "metadata": {},
   "outputs": [],
   "source": [
    "con = sqlite3.connect(\"../data/ai_watch.db\")"
   ]
  },
  {
   "cell_type": "code",
   "execution_count": 4,
   "metadata": {},
   "outputs": [
    {
     "name": "stdout",
     "output_type": "stream",
     "text": [
      "              name twitter_username  nb_twitter_followers\n",
      "0      Lex Fridman      @lexfridman               4200000\n",
      "1       Sam Altman            @sama               3100000\n",
      "2       Kai-Fu Lee        @kaifulee               1500000\n",
      "3     John Carmack   @ID_AA_Carmack               1100000\n",
      "4        Andrew Ng       @AndrewYNg               1100000\n",
      "5  Andrej Karpathy        @karpathy               1000000\n",
      "6       Yann LeCun          @ylecun                804000\n",
      "7     Sean Gardner   @2morrowknight                730400\n",
      "8     Rowan Cheung     @rowancheung                524500\n",
      "9    Robert Scoble      @Scobleizer                509300\n"
     ]
    }
   ],
   "source": [
    "# Example: top 10 influencers by follower count\n",
    "df = pd.read_sql_query(\"\"\"\n",
    "    SELECT name, twitter_username, nb_twitter_followers\n",
    "    FROM influencers\n",
    "    ORDER BY nb_twitter_followers DESC\n",
    "    LIMIT 10\n",
    "\"\"\", con)\n",
    "\n",
    "print(df)"
   ]
  }
 ],
 "metadata": {
  "kernelspec": {
   "display_name": ".venv",
   "language": "python",
   "name": "python3"
  },
  "language_info": {
   "codemirror_mode": {
    "name": "ipython",
    "version": 3
   },
   "file_extension": ".py",
   "mimetype": "text/x-python",
   "name": "python",
   "nbconvert_exporter": "python",
   "pygments_lexer": "ipython3",
   "version": "3.13.1"
  }
 },
 "nbformat": 4,
 "nbformat_minor": 2
}
